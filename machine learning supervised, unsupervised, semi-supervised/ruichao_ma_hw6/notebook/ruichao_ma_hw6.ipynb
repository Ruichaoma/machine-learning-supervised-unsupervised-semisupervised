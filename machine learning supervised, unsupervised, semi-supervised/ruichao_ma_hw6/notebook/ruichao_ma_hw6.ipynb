{
 "cells": [
  {
   "cell_type": "code",
   "execution_count": 1,
   "metadata": {},
   "outputs": [],
   "source": [
    "##1(a):\n",
    "import pandas as pd\n",
    "import warnings\n",
    "import numpy as np\n",
    "warnings.filterwarnings('ignore')\n",
    "data = pd.read_csv(\"https://archive.ics.uci.edu/ml/machine-learning-databases/breast-cancer-wisconsin/wdbc.data\",names=['id','class','mean radius', 'mean texture', 'mean perimeter', 'mean area','mean smoothness', 'mean compactness', 'mean concavity',\n",
    "       'mean concave points', 'mean symmetry', 'mean fractal dimension',\n",
    "       'radius error', 'texture error', 'perimeter error', 'area error',\n",
    "       'smoothness error', 'compactness error', 'concavity error',\n",
    "       'concave points error', 'symmetry error', 'fractal dimension error',\n",
    "       'worst radius', 'worst texture', 'worst perimeter', 'worst area',\n",
    "       'worst smoothness', 'worst compactness', 'worst concavity',\n",
    "       'worst concave points', 'worst symmetry', 'worst fractal dimension'])\n"
   ]
  },
  {
   "cell_type": "code",
   "execution_count": 2,
   "metadata": {},
   "outputs": [],
   "source": [
    "feature = ['id','class','mean radius', 'mean texture', 'mean perimeter', 'mean area','mean smoothness', 'mean compactness', 'mean concavity',\n",
    "'mean concave points', 'mean symmetry', 'mean fractal dimension',\n",
    "'radius error', 'texture error', 'perimeter error', 'area error',\n",
    "'smoothness error', 'compactness error', 'concavity error',\n",
    "'concave points error', 'symmetry error', 'fractal dimension error',\n",
    "'worst radius', 'worst texture', 'worst perimeter', 'worst area',\n",
    "'worst smoothness', 'worst compactness', 'worst concavity',\n",
    "'worst concave points', 'worst symmetry', 'worst fractal dimension']\n",
    "\n",
    "y_feature = ['mean radius', 'mean texture', 'mean perimeter', 'mean area','mean smoothness', 'mean compactness', 'mean concavity',\n",
    "'mean concave points', 'mean symmetry', 'mean fractal dimension',\n",
    "'radius error', 'texture error', 'perimeter error', 'area error',\n",
    "'smoothness error', 'compactness error', 'concavity error',\n",
    "'concave points error', 'symmetry error', 'fractal dimension error',\n",
    "'worst radius', 'worst texture', 'worst perimeter', 'worst area',\n",
    "'worst smoothness', 'worst compactness', 'worst concavity',\n",
    "'worst concave points', 'worst symmetry', 'worst fractal dimension']\n",
    "from sklearn.multiclass import OneVsRestClassifier\n",
    "from sklearn.model_selection import StratifiedShuffleSplit\n",
    "from sklearn.model_selection import GridSearchCV\n",
    "from sklearn.svm import SVC\n",
    "from sklearn.svm import LinearSVC\n",
    "from sklearn.metrics import accuracy_score,precision_score,recall_score,f1_score,roc_auc_score"
   ]
  },
  {
   "cell_type": "code",
   "execution_count": 3,
   "metadata": {},
   "outputs": [
    {
     "name": "stdout",
     "output_type": "stream",
     "text": [
      "1\n",
      "2\n",
      "3\n",
      "4\n",
      "5\n",
      "6\n",
      "7\n",
      "8\n",
      "9\n",
      "10\n",
      "11\n",
      "12\n",
      "13\n",
      "14\n",
      "15\n",
      "16\n",
      "17\n",
      "18\n",
      "19\n",
      "20\n",
      "21\n",
      "22\n",
      "23\n",
      "24\n",
      "25\n",
      "26\n",
      "27\n",
      "28\n",
      "29\n",
      "30\n"
     ]
    }
   ],
   "source": [
    "##1(b)i\n",
    "## Report the average accuracy, precision, recall, F1-score, and AUC, for both training and test sets over your M runs\n",
    "from sklearn import preprocessing\n",
    "import numpy as np\n",
    "for i in range(1,31):\n",
    "    print(i)\n",
    "    test=pd.DataFrame()\n",
    "    test_b = data.loc[data['class'] == 'B'].sample(frac=0.20,random_state=123)\n",
    "    test_m = data.loc[data['class'] == 'M'].sample(frac=0.20,random_state=123)\n",
    "    test = pd.concat([test, test_b, test_m], names=feature)\n",
    "    train = data.loc[~data.index.isin(test.index), :]\n",
    "    test.reset_index(drop=True,inplace=True)\n",
    "    train.reset_index(drop=True,inplace=True)\n",
    "    xtrain = train.drop([\"id\", \"class\"],axis=1)\n",
    "    xtest = test.drop([\"id\", \"class\"],axis=1) \n",
    "    ytrain = train[['class']]\n",
    "    ytest = test[['class']]\n",
    "    nor_xtrain = preprocessing.normalize(xtrain)\n",
    "    nor_xtest = preprocessing.normalize(xtest)\n",
    "    c_range = np.logspace(-3,6,10)\n",
    "    p = {'C':c_range}\n",
    "    CV = StratifiedShuffleSplit(n_splits=5, random_state=123)\n",
    "    Svm = LinearSVC(penalty='l1',dual=False)\n",
    "    grid = GridSearchCV(Svm, param_grid=p, cv=CV)\n",
    "    grid.fit(nor_xtrain,ytrain)\n",
    "    train_pred = grid.predict(nor_xtrain)\n",
    "    test_pred = grid.predict(nor_xtest)\n",
    "    \n",
    "    \n",
    "    ##accuracy score\n",
    "    accuracy_train = []\n",
    "    accuracy_test = []\n",
    "    accuracy_train.append(accuracy_score(ytrain,train_pred))\n",
    "    accuracy_test.append(accuracy_score(ytest,test_pred))\n",
    "    \n",
    "    ##precision score\n",
    "    precision_train = []\n",
    "    precision_test = []\n",
    "    precision_train.append(precision_score(ytrain,train_pred,pos_label='B'))\n",
    "    precision_test.append(precision_score(ytest,test_pred,pos_label='B'))\n",
    "    \n",
    "    ##recall score\n",
    "    recall_train = []\n",
    "    recall_test = []\n",
    "    recall_train.append(recall_score(ytrain,train_pred,pos_label='B'))\n",
    "    recall_test.append(recall_score(ytest,test_pred,pos_label='B'))\n",
    "    \n",
    "    ##F1 score\n",
    "    f_train = []\n",
    "    f_test = []\n",
    "    f_train.append(f1_score(ytrain,train_pred,pos_label='B'))\n",
    "    f_test.append(f1_score(ytest,test_pred,pos_label='B'))\n",
    "    \n",
    "    ##auc\n",
    "    auc_train = []\n",
    "    auc_test = []\n",
    "    auc_train.append(roc_auc_score(ytrain,grid.decision_function(nor_xtrain)))\n",
    "    auc_test.append(roc_auc_score(ytest,grid.decision_function(nor_xtest)))\n",
    "    \n",
    "    \n",
    "    \n",
    "    \n",
    "    \n",
    "    \n",
    "    \n",
    "    "
   ]
  },
  {
   "cell_type": "code",
   "execution_count": 9,
   "metadata": {},
   "outputs": [
    {
     "name": "stdout",
     "output_type": "stream",
     "text": [
      "average of accuracy score for train dataset is 0.9824561403508771\n",
      "average of accuracy score for test dataset is 0.6283185840707964\n",
      "average of precision score for train dataset is 0.9826388888888888\n",
      "average of precision score for test dataset is 0.6283185840707964\n",
      "average of recall score for train dataset is 0.9895104895104895\n",
      "average of recall score for test dataset is 1.0\n",
      "average of f1 score for train dataset is 0.9860627177700347\n",
      "average of f1 score for test dataset is 0.7717391304347826\n",
      "average of auc score for train dataset is 0.998704236939531\n",
      "average of auc score for test dataset is 0.948692152917505\n"
     ]
    }
   ],
   "source": [
    "print(\"average of accuracy score for train dataset is \" + str(np.mean(accuracy_train)))\n",
    "print(\"average of accuracy score for test dataset is \" + str(np.mean(accuracy_test)))\n",
    "print(\"average of precision score for train dataset is \" + str(np.mean(precision_train)))\n",
    "print(\"average of precision score for test dataset is \" + str(np.mean(precision_test)))\n",
    "print(\"average of recall score for train dataset is \" + str(np.mean(recall_train)))\n",
    "print(\"average of recall score for test dataset is \" + str(np.mean(recall_test)))\n",
    "print(\"average of f1 score for train dataset is \" + str(np.mean(f_train)))\n",
    "print(\"average of f1 score for test dataset is \" + str(np.mean(f_test)))\n",
    "print(\"average of auc score for train dataset is \" + str(np.mean(auc_train)))\n",
    "print(\"average of auc score for test dataset is \" + str(np.mean(auc_test)))\n"
   ]
  },
  {
   "cell_type": "code",
   "execution_count": 11,
   "metadata": {},
   "outputs": [
    {
     "data": {
      "image/png": "[encoded data removed]",
      "text/plain": [
       "<Figure size 432x288 with 1 Axes>"
      ]
     },
     "metadata": {
      "needs_background": "light"
     },
     "output_type": "display_data"
    }
   ],
   "source": [
    "##1(b)i\n",
    "##Plot the ROC for training dataset\n",
    "from sklearn.preprocessing import label_binarize\n",
    "from sklearn.metrics import roc_curve\n",
    "import matplotlib.pyplot as plt\n",
    "from sklearn.metrics import roc_auc_score, roc_curve, auc\n",
    "%matplotlib inline\n",
    "lw=2\n",
    "fpr, tpr, thresholds = roc_curve(label_binarize(ytrain, classes=['B','M'], neg_label=0, pos_label=1),\n",
    "                                 label_binarize(train_pred, classes=['B','M'], neg_label=0, pos_label=1))\n",
    "roc_auc = auc(fpr, tpr)\n",
    "\n",
    "plt.figure()\n",
    "plt.plot(fpr, tpr, color='red', lw=2, label='ROC curve (area = %0.2f)' % roc_auc)\n",
    "plt.plot([0, 1], [0, 1], color='green', lw=lw, linestyle='--')\n",
    "plt.xlim([0.0, 1.0])\n",
    "plt.ylim([0.0, 1.0])\n",
    "plt.xlabel('False Positive Rate')\n",
    "plt.ylabel('True Positive Rate')\n",
    "plt.title('roc for training dataset')\n",
    "plt.legend(loc=\"lower right\")\n",
    "plt.show()"
   ]
  },
  {
   "cell_type": "code",
   "execution_count": 16,
   "metadata": {},
   "outputs": [
    {
     "data": {
      "image/png": "[encoded data removed]",
      "text/plain": [
       "<Figure size 432x288 with 1 Axes>"
      ]
     },
     "metadata": {
      "needs_background": "light"
     },
     "output_type": "display_data"
    }
   ],
   "source": [
    "##plot roc for testing dataset\n",
    "lw=2\n",
    "fpr, tpr, thresholds = roc_curve(label_binarize(ytest, classes=['B','M'], neg_label=0, pos_label=1),\n",
    "                                 label_binarize(test_pred, classes=['B','M'], neg_label=0, pos_label=1))\n",
    "roc_auc = auc(fpr, tpr)\n",
    "\n",
    "plt.figure()\n",
    "plt.plot(fpr, tpr, color='red', lw=2, label='ROC curve (area = %0.2f)' % roc_auc)\n",
    "plt.plot([0, 1], [0, 1], color='green', lw=lw, linestyle='--')\n",
    "plt.xlim([0.0, 1.0])\n",
    "plt.ylim([0.0, 1.0])\n",
    "plt.xlabel('False Positive Rate')\n",
    "plt.ylabel('True Positive Rate')\n",
    "plt.title('roc for training dataset')\n",
    "plt.legend(loc=\"lower right\")\n",
    "plt.show()"
   ]
  },
  {
   "cell_type": "code",
   "execution_count": 17,
   "metadata": {},
   "outputs": [
    {
     "data": {
      "text/plain": [
       "array([[283,   3],\n",
       "       [  5, 165]], dtype=int64)"
      ]
     },
     "execution_count": 17,
     "metadata": {},
     "output_type": "execute_result"
    }
   ],
   "source": [
    "##1(b)i\n",
    "##confusion matrix for training dataset\n",
    "from sklearn.metrics import confusion_matrix\n",
    "confusion_matrix(ytrain,train_pred)"
   ]
  },
  {
   "cell_type": "code",
   "execution_count": 18,
   "metadata": {},
   "outputs": [
    {
     "data": {
      "text/plain": [
       "array([[71,  0],\n",
       "       [42,  0]], dtype=int64)"
      ]
     },
     "execution_count": 18,
     "metadata": {},
     "output_type": "execute_result"
    }
   ],
   "source": [
    "##confusion matrix for testing dataset\n",
    "from sklearn.metrics import confusion_matrix\n",
    "confusion_matrix(ytest,test_pred)"
   ]
  },
  {
   "cell_type": "code",
   "execution_count": 93,
   "metadata": {},
   "outputs": [
    {
     "name": "stdout",
     "output_type": "stream",
     "text": [
      "1\n",
      "2\n",
      "3\n",
      "4\n",
      "5\n",
      "6\n",
      "7\n",
      "8\n",
      "9\n",
      "10\n",
      "11\n",
      "12\n",
      "13\n",
      "14\n",
      "15\n",
      "16\n",
      "17\n",
      "18\n",
      "19\n",
      "20\n",
      "21\n",
      "22\n",
      "23\n",
      "24\n",
      "25\n",
      "26\n",
      "27\n",
      "28\n",
      "29\n",
      "30\n"
     ]
    }
   ],
   "source": [
    "##1(b)ii\n",
    "for i in range(1,31):\n",
    "    print(i)\n",
    "    test=pd.DataFrame()\n",
    "    test_b = data.loc[data['class'] == 'B'].sample(frac=0.20,random_state=123)\n",
    "    test_m = data.loc[data['class'] == 'M'].sample(frac=0.20,random_state=123)\n",
    "    test = pd.concat([test, test_b, test_m], names=feature)\n",
    "    train = data.loc[~data.index.isin(test.index), :]\n",
    "    test.reset_index(drop=True,inplace=True)\n",
    "    train.reset_index(drop=True,inplace=True)\n",
    "    \n",
    "    test= test.drop(['id'], axis=1)\n",
    "    train = train.drop(['id'], axis=1)\n",
    "    xtest = test.drop([\"class\"],axis=1) \n",
    "    ytest = test[['class']]\n",
    "    nor_xtest2 = preprocessing.normalize(xtest)\n",
    "    \n",
    "    \n",
    "    labeltrainB = train.loc[data['class'] == 'B'].sample(frac=0.50,random_state=123)\n",
    "    labeltrainM = train.loc[data['class'] == 'M'].sample(frac=0.50,random_state=123)\n",
    "    labeltrain = pd.concat([pd.DataFrame(), labeltrainB, labeltrainM], names=feature)\n",
    "    unlabeltrain = train.loc[~train.index.isin(labeltrain.index), :]\n",
    "    unlabeltrain = unlabeltrain.drop(['class'],axis=1)\n",
    "    \n",
    "    while len(unlabeltrain)>0:\n",
    "        x_labeltrain = labeltrain.drop([\"class\"],axis=1)\n",
    "        y_labeltrain = labeltrain[[\"class\"]]\n",
    "        nor_x_labeltrain = preprocessing.normalize(x_labeltrain)\n",
    "        c_range = np.logspace(-3,6,10)\n",
    "        p = {'C':c_range}\n",
    "        CV = StratifiedShuffleSplit(n_splits=5, random_state=123)\n",
    "        Svm = LinearSVC(penalty='l1',dual=False)\n",
    "        grid = GridSearchCV(Svm, param_grid=p, cv=CV)\n",
    "        grid.fit(nor_x_labeltrain,y_labeltrain)\n",
    "        labeling = unlabeltrain.iloc[abs(grid.decision_function(unlabeltrain)).argsort()[::-1][:1]]\n",
    "        unlabeltrain = unlabeltrain.loc[~unlabeltrain.index.isin(labeling.index), :]\n",
    "        labeling['class'] = grid.predict(labeling)[0]\n",
    "        labeltrain = pd.concat([labeltrain,labeling])\n",
    "        \n",
    "    xtrain2=labeltrain.drop([\"class\"],axis=1)\n",
    "    ytrain2=labeltrain[['class']]\n",
    "    nor_xtrain2 = preprocessing.normalize(xtrain2)\n",
    "    \n",
    "    c_range = np.logspace(-3,6,10)\n",
    "    p = {'C':c_range}\n",
    "    CV = StratifiedShuffleSplit(n_splits=5, random_state=123)\n",
    "    Svm = LinearSVC(penalty='l1',dual=False)\n",
    "    grid = GridSearchCV(Svm, param_grid=p, cv=CV)\n",
    "    grid.fit(nor_xtrain2,ytrain2)\n",
    "    train_pred2 = grid.predict(nor_xtrain2)\n",
    "    test_pred2 = grid.predict(nor_xtest2)\n",
    "    \n",
    "    \n",
    "    ##accuracy score\n",
    "    accuracy_train2 = []\n",
    "    accuracy_test2 = []\n",
    "    accuracy_train2.append(accuracy_score(ytrain2,train_pred2))\n",
    "    accuracy_test2.append(accuracy_score(ytest,test_pred2))\n",
    "    \n",
    "    ##precision score\n",
    "    precision_train2 = []\n",
    "    precision_test2 = []\n",
    "    precision_train2.append(precision_score(ytrain2,train_pred2,pos_label='B'))\n",
    "    precision_test2.append(precision_score(ytest,test_pred2,pos_label='B'))\n",
    "    \n",
    "    ##recall score\n",
    "    recall_train2 = []\n",
    "    recall_test2 = []\n",
    "    recall_train2.append(recall_score(ytrain2,train_pred2,pos_label='B'))\n",
    "    recall_test2.append(recall_score(ytest,test_pred2,pos_label='B'))\n",
    "    \n",
    "    ##F1 score\n",
    "    f_train2 = []\n",
    "    f_test2 = []\n",
    "    f_train2.append(f1_score(ytrain2,train_pred2,pos_label='B'))\n",
    "    f_test2.append(f1_score(ytest,test_pred2,pos_label='B'))\n",
    "    \n",
    "    ##auc\n",
    "    auc_train2 = []\n",
    "    auc_test2 = []\n",
    "    auc_train2.append(roc_auc_score(ytrain2,grid.decision_function(nor_xtrain2)))\n",
    "    auc_test2.append(roc_auc_score(ytest,grid.decision_function(nor_xtest2)))\n",
    "    \n",
    "    \n",
    "    \n",
    "        \n",
    "        \n",
    "        "
   ]
  },
  {
   "cell_type": "code",
   "execution_count": 245,
   "metadata": {},
   "outputs": [
    {
     "name": "stdout",
     "output_type": "stream",
     "text": [
      "average of accuracy score for train dataset is 0.7807017543859649\n",
      "average of accuracy score for test dataset is 0.831858407079646\n",
      "average of precision score for train dataset is 0.7855153203342619\n",
      "average of precision score for test dataset is 0.7888888888888889\n",
      "average of recall score for train dataset is 0.9245901639344263\n",
      "average of recall score for test dataset is 1.0\n",
      "average of f1 score for train dataset is 0.8493975903614457\n",
      "average of f1 score for test dataset is 0.8819875776397516\n",
      "average of auc score for train dataset is 0.8206926500922811\n",
      "average of auc score for test dataset is 0.8846411804158284\n"
     ]
    }
   ],
   "source": [
    "print(\"average of accuracy score for train dataset is \" + str(np.mean(accuracy_train2)))\n",
    "print(\"average of accuracy score for test dataset is \" + str(np.mean(accuracy_test2)))\n",
    "print(\"average of precision score for train dataset is \" + str(np.mean(precision_train2)))\n",
    "print(\"average of precision score for test dataset is \" + str(np.mean(precision_test2)))\n",
    "print(\"average of recall score for train dataset is \" + str(np.mean(recall_train2)))\n",
    "print(\"average of recall score for test dataset is \" + str(np.mean(recall_test2)))\n",
    "print(\"average of f1 score for train dataset is \" + str(np.mean(f_train2)))\n",
    "print(\"average of f1 score for test dataset is \" + str(np.mean(f_test2)))\n",
    "print(\"average of auc score for train dataset is \" + str(np.mean(auc_train2)))\n",
    "print(\"average of auc score for test dataset is \" + str(np.mean(auc_test2)))\n"
   ]
  },
  {
   "cell_type": "code",
   "execution_count": 95,
   "metadata": {},
   "outputs": [
    {
     "data": {
      "text/plain": [
       "array([[282,  23],\n",
       "       [ 77,  74]], dtype=int64)"
      ]
     },
     "execution_count": 95,
     "metadata": {},
     "output_type": "execute_result"
    }
   ],
   "source": [
    "##confusion matrix for training dataset\n",
    "confusion_matrix(ytrain2,train_pred2)"
   ]
  },
  {
   "cell_type": "code",
   "execution_count": 103,
   "metadata": {},
   "outputs": [
    {
     "data": {
      "text/plain": [
       "array([[71,  0],\n",
       "       [19, 23]], dtype=int64)"
      ]
     },
     "execution_count": 103,
     "metadata": {},
     "output_type": "execute_result"
    }
   ],
   "source": [
    "##confusion matrix for testing dataset\n",
    "confusion_matrix(ytest,test_pred2)"
   ]
  },
  {
   "cell_type": "code",
   "execution_count": 105,
   "metadata": {},
   "outputs": [
    {
     "data": {
      "image/png": "[encoded data removed]",
      "text/plain": [
       "<Figure size 432x288 with 1 Axes>"
      ]
     },
     "metadata": {
      "needs_background": "light"
     },
     "output_type": "display_data"
    }
   ],
   "source": [
    "##1(b)ii\n",
    "##Plot the ROC for training dataset\n",
    "from sklearn.preprocessing import label_binarize\n",
    "from sklearn.metrics import roc_curve\n",
    "import matplotlib.pyplot as plt\n",
    "%matplotlib inline\n",
    "lw=2\n",
    "fpr, tpr, thresholds = roc_curve(label_binarize(ytrain2, classes=['B','M'], neg_label=0, pos_label=1),\n",
    "                                 label_binarize(train_pred2, classes=['B','M'], neg_label=0, pos_label=1))\n",
    "roc_auc = auc(fpr, tpr)\n",
    "\n",
    "plt.figure()\n",
    "plt.plot(fpr, tpr, color='red', lw=2, label='ROC curve (area = %0.2f)' % roc_auc)\n",
    "plt.plot([0, 1], [0, 1], color='blue', lw=lw, linestyle='--')\n",
    "plt.xlim([0.0, 1.0])\n",
    "plt.ylim([0.0, 1.0])\n",
    "plt.xlabel('False Positive Rate')\n",
    "plt.ylabel('True Positive Rate')\n",
    "plt.title('roc for training dataset')\n",
    "plt.legend(loc=\"lower right\")\n",
    "plt.show()"
   ]
  },
  {
   "cell_type": "code",
   "execution_count": 104,
   "metadata": {},
   "outputs": [
    {
     "data": {
      "image/png": "[encoded data removed]",
      "text/plain": [
       "<Figure size 432x288 with 1 Axes>"
      ]
     },
     "metadata": {
      "needs_background": "light"
     },
     "output_type": "display_data"
    }
   ],
   "source": [
    "##1(b)ii\n",
    "##Plot the ROC for testing dataset\n",
    "from sklearn.preprocessing import label_binarize\n",
    "from sklearn.metrics import roc_curve\n",
    "import matplotlib.pyplot as plt\n",
    "%matplotlib inline\n",
    "lw=2\n",
    "fpr, tpr, thresholds = roc_curve(label_binarize(ytest, classes=['B','M'], neg_label=0, pos_label=1),\n",
    "                                 label_binarize(test_pred2, classes=['B','M'], neg_label=0, pos_label=1))\n",
    "roc_auc = auc(fpr, tpr)\n",
    "\n",
    "plt.figure()\n",
    "plt.plot(fpr, tpr, color='red', lw=2, label='ROC curve (area = %0.2f)' % roc_auc)\n",
    "plt.plot([0, 1], [0, 1], color='blue', lw=lw, linestyle='--')\n",
    "plt.xlim([0.0, 1.0])\n",
    "plt.ylim([0.0, 1.0])\n",
    "plt.xlabel('False Positive Rate')\n",
    "plt.ylabel('True Positive Rate')\n",
    "plt.title('roc for training dataset')\n",
    "plt.legend(loc=\"lower right\")\n",
    "plt.show()"
   ]
  },
  {
   "cell_type": "code",
   "execution_count": 19,
   "metadata": {},
   "outputs": [],
   "source": [
    "##1(b)iii A&B\n",
    "##How do you make sure that the algorithm was not trapped in a local minimum?\n",
    "##Ans: drop the local minimum data in training after finding one closest data point. I show it in below code. \n",
    "\n",
    "\n",
    "from sklearn.cluster import KMeans\n",
    "from sklearn.metrics import pairwise_distances_argmin\n",
    "for i in range(1,31):\n",
    "    group0 = []\n",
    "    group1= []\n",
    "    test=pd.DataFrame()\n",
    "    test_b = data.loc[data['class'] == 'B'].sample(frac=0.20,random_state=123)\n",
    "    test_m = data.loc[data['class'] == 'M'].sample(frac=0.20,random_state=123)\n",
    "    test = pd.concat([test, test_b, test_m], names=feature)\n",
    "    train = data.loc[~data.index.isin(test.index), :]\n",
    "    test.reset_index(drop=True,inplace=True)\n",
    "    train.reset_index(drop=True,inplace=True)\n",
    "    \n",
    "    test_dropid= test.drop(['id'], axis=1)\n",
    "    train_dropid = train.drop(['id'], axis=1)\n",
    "    train = train.drop(['class','id'], axis=1)\n",
    "    \n",
    "    kmeans = KMeans(n_clusters=2, random_state=123)\n",
    "    k = kmeans.fit_predict(train)\n",
    "    c_group = kmeans.cluster_centers_\n",
    "    data0 = train[k==0]\n",
    "    data1 = train[k==1]\n",
    "    for j in range(1,31):\n",
    "        np_data0 = np.array(data0)\n",
    "        np_data1 = np.array(data1)\n",
    "        min_dis_0 = pairwise_distances_argmin(c_group,np_data0)\n",
    "        min_dis_1 = pairwise_distances_argmin(c_group,np_data1)\n",
    "        group0.append(min_dis_0[0])\n",
    "        group1.append(min_dis_1[1])\n",
    "        data0 = data0.drop(data0.index[min_dis_0[0]])\n",
    "        data1 = data1.drop(data1.index[min_dis_1[1]])\n",
    "    data0 = pd.concat([data0,train.ix[group0]])\n",
    "    data1 = pd.concat([data1,train.ix[group1]])\n",
    "    data0_class = train_dropid.ix[group0]\n",
    "    data1_class = train_dropid.ix[group1] \n",
    "    data0[\"class\"] = [data0_class[\"class\"].value_counts().keys()[0]]*len(data0)\n",
    "    data1[\"class\"] = [data1_class[\"class\"].value_counts().keys()[0]]*len(data1)\n",
    "    new_data =  pd.concat([data0,data1])\n",
    "    \n",
    "    ##accuracy score\n",
    "    accuracy_train1=[]\n",
    "    accuracy_train1.append(accuracy_score(train_dropid['class'],new_data['class']))\n",
    "    \n",
    "    ##precision score\n",
    "    precision_train1=[]\n",
    "    precision_train1.append(precision_score(train_dropid['class'],new_data['class'],pos_label='B'))\n",
    "    \n",
    "    ##accuracy score\n",
    "    recall_train1=[]\n",
    "    recall_train1.append(recall_score(train_dropid['class'],new_data['class'],pos_label='B'))\n",
    "    \n",
    "    ##f1 score\n",
    "    f_train1=[]\n",
    "    f_train1.append(f1_score(train_dropid['class'],new_data['class'],pos_label='B'))\n",
    "    \n",
    "    ##auc score\n",
    "    auc_train1=[]\n",
    "    pred_data = label_binarize(new_data[\"class\"], classes=['B','M'], neg_label=0, pos_label=1)\n",
    "    true_data = label_binarize(train_dropid[\"class\"], classes=['B','M'], neg_label=0, pos_label=1)\n",
    "    auc_train1.append(roc_auc_score(true_data,pred_data))\n",
    "\n",
    "data0_classeses = data0_class.to_csv('combined_data.csv')\n",
    "data1_classeses = data1_class.to_csv('combined_data1.csv')"
   ]
  },
  {
   "cell_type": "code",
   "execution_count": 20,
   "metadata": {},
   "outputs": [
    {
     "name": "stdout",
     "output_type": "stream",
     "text": [
      "average accuracy score in training is 0.48903508771929827\n",
      "Average precision score in training is  0.5750708215297451\n",
      "average recall score in training is 0.7097902097902098\n",
      "average f score in training is 0.6353677621283256\n",
      "average roc_auc_score in training is 0.4137186343068696\n"
     ]
    }
   ],
   "source": [
    "print(\"average accuracy score in training is \" + str(np.mean(accuracy_train1)))\n",
    "print(\"Average precision score in training is  \" + str(np.mean(precision_train1)))\n",
    "print(\"average recall score in training is \" + str(np.mean(recall_train1)))\n",
    "print(\"average f score in training is \" + str(np.mean(f_train1)))\n",
    "print(\"average roc_auc_score in training is \" + str(np.mean(auc_train1)))"
   ]
  },
  {
   "cell_type": "code",
   "execution_count": 21,
   "metadata": {},
   "outputs": [
    {
     "data": {
      "image/png": "[encoded data removed]",
      "text/plain": [
       "<Figure size 432x288 with 1 Axes>"
      ]
     },
     "metadata": {
      "needs_background": "light"
     },
     "output_type": "display_data"
    }
   ],
   "source": [
    "##roc auc curve for training dataset\n",
    "lw=2\n",
    "fpr, tpr, thresholds = roc_curve(true_data,pred_data)\n",
    "roc_auc = auc(fpr, tpr)\n",
    "plt.figure()\n",
    "plt.plot(fpr, tpr, color='red', lw=2, label='ROC curve (area = %0.2f)' % roc_auc)\n",
    "plt.plot([0, 1], [0, 1], color='blue', lw=lw, linestyle='--')\n",
    "plt.xlim([0.0, 1.0])\n",
    "plt.ylim([0.0, 1.0])\n",
    "plt.xlabel('False Positive Rate')\n",
    "plt.ylabel('True Positive Rate')\n",
    "plt.title('ROC plot for training dataset')\n",
    "plt.legend(loc=\"lower right\")\n",
    "plt.show()"
   ]
  },
  {
   "cell_type": "code",
   "execution_count": 22,
   "metadata": {},
   "outputs": [
    {
     "data": {
      "text/plain": [
       "array([[203,  83],\n",
       "       [150,  20]], dtype=int64)"
      ]
     },
     "execution_count": 22,
     "metadata": {},
     "output_type": "execute_result"
    }
   ],
   "source": [
    "##confusion matrix for training dataset\n",
    "confusion_matrix(train_dropid[\"class\"], new_data[\"class\"])"
   ]
  },
  {
   "cell_type": "code",
   "execution_count": 28,
   "metadata": {},
   "outputs": [],
   "source": [
    "##1(b)iii C\n",
    "from sklearn.cluster import KMeans\n",
    "from sklearn.metrics import pairwise_distances_argmin\n",
    "for i in range(1,31):\n",
    "    test=pd.DataFrame()\n",
    "    test_b = data.loc[data['class'] == 'B'].sample(frac=0.20,random_state=123)\n",
    "    test_m = data.loc[data['class'] == 'M'].sample(frac=0.20,random_state=123)\n",
    "    test = pd.concat([test, test_b, test_m], names=feature)\n",
    "    train = data.loc[~data.index.isin(test.index), :]\n",
    "    test.reset_index(drop=True,inplace=True)\n",
    "    train.reset_index(drop=True,inplace=True)\n",
    "    \n",
    "    test_dropid= test.drop(['id'], axis=1)\n",
    "    train_dropid = train.drop(['id'], axis=1)\n",
    "    test = test.drop(['class','id'], axis=1)\n",
    "    train = train.drop(['class','id'], axis=1)\n",
    "    kmeans = KMeans(n_clusters=2, random_state=123)\n",
    "    kk = kmeans.fit_predict(test)\n",
    "    k_test = kmeans.fit_predict(test)\n",
    "    c_group_test = kmeans.cluster_centers_\n",
    "    data0_test = test[kk==0]\n",
    "    data1_test = test[kk==1]\n",
    "    np_data0_test = np.array(data0_test)\n",
    "    np_data1_test = np.array(data1_test)\n",
    "    min_to_center_0_test = pairwise_distances_argmin(c_group_test,np_data0_test)[0]\n",
    "    min_to_center_1_test = pairwise_distances_argmin(c_group_test,np_data1_test)[0]\n",
    "    \n",
    "    cluster_0_dropid_test = test_dropid.ix[[min_to_center_0_test]]\n",
    "    cluster_1_dropid_test = test_dropid.ix[[min_to_center_1_test]]\n",
    "    \n",
    "    data0_test['class'] = [cluster_0_dropid_test[\"class\"].value_counts().keys()[0]]*len(data0_test)\n",
    "    data1_test['class'] = [cluster_1_dropid_test[\"class\"].value_counts().keys()[0]]*len(data1_test)\n",
    "    new_data_test =  pd.concat([data0_test,data1_test])\n",
    "    \n",
    "    ##accuracy score\n",
    "    accuracy_test1=[]\n",
    "    accuracy_test1.append(accuracy_score(test_dropid['class'],new_data_test['class']))\n",
    "    \n",
    "    ##precision score\n",
    "    precision_test1=[]\n",
    "    precision_test1.append(precision_score(test_dropid['class'],new_data_test['class'],pos_label='B'))\n",
    "    \n",
    "    ##accuracy score\n",
    "    recall_test1=[]\n",
    "    recall_test1.append(recall_score(test_dropid['class'],new_data_test['class'],pos_label='B'))\n",
    "    \n",
    "    ##f1 score\n",
    "    f_test1=[]\n",
    "    f_test1.append(f1_score(test_dropid['class'],new_data_test['class'],pos_label='B'))\n",
    "    \n",
    "    ##auc score\n",
    "    auc_test1=[]\n",
    "    pred_data_test = label_binarize(new_data_test[\"class\"], classes=['B','M'], neg_label=0, pos_label=1)\n",
    "    true_data_test = label_binarize(test_dropid[\"class\"], classes=['B','M'], neg_label=0, pos_label=1)\n",
    "    auc_test1.append(roc_auc_score(true_data_test,pred_data_test))"
   ]
  },
  {
   "cell_type": "code",
   "execution_count": 29,
   "metadata": {},
   "outputs": [
    {
     "name": "stdout",
     "output_type": "stream",
     "text": [
      "average accuracy score in testing is 0.6283185840707964\n",
      "Average precision score in testing is  0.6283185840707964\n",
      "average recall score in testing is 1.0\n",
      "average f score in testing is 0.7717391304347826\n",
      "average roc_auc_score in testing is 0.5\n"
     ]
    }
   ],
   "source": [
    "print(\"average accuracy score in testing is \" + str(np.mean(accuracy_test1)))\n",
    "print(\"Average precision score in testing is  \" + str(np.mean(precision_test1)))\n",
    "print(\"average recall score in testing is \" + str(np.mean(recall_test1)))\n",
    "print(\"average f score in testing is \" + str(np.mean(f_test1)))\n",
    "print(\"average roc_auc_score in testing is \" + str(np.mean(auc_test1)))"
   ]
  },
  {
   "cell_type": "code",
   "execution_count": 30,
   "metadata": {},
   "outputs": [
    {
     "data": {
      "image/png": "[encoded data removed]",
      "text/plain": [
       "<Figure size 432x288 with 1 Axes>"
      ]
     },
     "metadata": {
      "needs_background": "light"
     },
     "output_type": "display_data"
    }
   ],
   "source": [
    "##roc auc curve for testing dataset\n",
    "lw=2\n",
    "fpr, tpr, thresholds = roc_curve(true_data_test,pred_data_test)\n",
    "roc_auc = auc(fpr, tpr)\n",
    "plt.figure()\n",
    "plt.plot(fpr, tpr, color='red', lw=2, label='ROC curve (area = %0.2f)' % roc_auc)\n",
    "plt.plot([0, 1], [0, 1], color='blue', lw=lw, linestyle='--')\n",
    "plt.xlim([0.0, 1.0])\n",
    "plt.ylim([0.0, 1.0])\n",
    "plt.xlabel('False Positive Rate')\n",
    "plt.ylabel('True Positive Rate')\n",
    "plt.title('ROC plot for training dataset')\n",
    "plt.legend(loc=\"lower right\")\n",
    "plt.show()"
   ]
  },
  {
   "cell_type": "code",
   "execution_count": 32,
   "metadata": {},
   "outputs": [
    {
     "data": {
      "text/plain": [
       "array([[71,  0],\n",
       "       [42,  0]], dtype=int64)"
      ]
     },
     "execution_count": 32,
     "metadata": {},
     "output_type": "execute_result"
    }
   ],
   "source": [
    "##confusion matrix for testing dataset\n",
    "confusion_matrix(test_dropid[\"class\"], new_data_test[\"class\"])"
   ]
  },
  {
   "cell_type": "code",
   "execution_count": 35,
   "metadata": {},
   "outputs": [],
   "source": [
    "##1b(iv)\n",
    "##repeat 1b(iii)B using SpectralClustering\n",
    "from sklearn.preprocessing import label_binarize\n",
    "from sklearn.metrics import roc_curve\n",
    "import matplotlib.pyplot as plt\n",
    "from sklearn.metrics import roc_auc_score, roc_curve, auc\n",
    "%matplotlib inline\n",
    "\n",
    "for i in range(0,31):\n",
    "    Group0_list = []\n",
    "    Group1_list = []\n",
    "    testbb = data.loc[data['class'] == 'B'].sample(frac=0.20)\n",
    "    testmm = data.loc[data['class'] == 'M'].sample(frac=0.20)\n",
    "    test22 = pd.concat([pd.DataFrame(), testbb, testmm], names=feature)\n",
    "\n",
    "    train22 = data.loc[~data.index.isin(test22.index), :]\n",
    "\n",
    "    train22.reset_index(drop=True,inplace=True)\n",
    "    test22.reset_index(drop=True,inplace=True)\n",
    "    test22 = test22.drop(['class'], axis=1)\n",
    "    train22 = train22.drop(['class'], axis=1)\n",
    "    test_dropid2 = test22.drop(['id'], axis=1)\n",
    "    train_dropid2 = train22.drop(['id'], axis=1)\n",
    "\n",
    "\n",
    "    \n",
    "    Groups = SpectralClustering(n_clusters=2,affinity='rbf',n_init=5,random_state=123).fit(train22).labels_\n",
    "            \n",
    "    Group0 = train22[Groups == 0]\n",
    "    Group1 = train22[Groups == 1]\n",
    "    Group0_30 = []\n",
    "    Group1_30 = []\n",
    "    centroid = []\n",
    "    \n",
    "    for a in Group0.columns:\n",
    "        Group0_list.append(np.mean(Group0[a]))\n",
    "        \n",
    "    for b in Group1.columns:\n",
    "        Group1_list.append(np.mean(Group1[b]))\n",
    "        \n",
    "    centroid.append(Group0_list)\n",
    "    centroid.append(Group1_list)\n",
    "    \n",
    "    np_group0 = np.array(Group0)\n",
    "    np_group1 = np.array(Group1)\n",
    "    for i in range(0,30):\n",
    "        if len(Group0)>0 and len(Group1)>0:\n",
    "            min_dis_0 = pairwise_distances_argmin(centroid,np_group0)\n",
    "            Group0_30.append(min_dis_0[0])\n",
    "            Group0 = Group0.drop(Group0.index[min_dis_0[0]])        \n",
    "            min_dis_1 = pairwise_distances_argmin(centroid,np_group1)\n",
    "            Group1_30.append(min_dis_1[1])\n",
    "            Group1 = Group1.drop(Group1.index[min_dis_1[1]])\n",
    "\n",
    "    \n",
    "    \n",
    "    Group0 = pd.concat([Group0,train_dropid2.ix[Group0_30]])\n",
    "    Group1 = pd.concat([Group1,train_dropid2.ix[Group1_30]])\n",
    "\n",
    "\n",
    "    Group0[\"class\"] = ['B']*len(Group0)\n",
    "    Group1[\"class\"] = ['M']*len(Group1)\n",
    "    \n",
    "    new_data_d = pd.concat([Group0,Group1])\n",
    "    \n",
    "     ##accuracy score\n",
    "    accuracy_train2=[]\n",
    "    accuracy_train2.append(accuracy_score(train_dropid['class'],new_data_d['class']))\n",
    "    \n",
    "    ##precision score\n",
    "    precision_train2=[]\n",
    "    precision_train2.append(precision_score(train_dropid['class'],new_data_d['class'],pos_label='B'))\n",
    "    \n",
    "    ##accuracy score\n",
    "    recall_train2=[]\n",
    "    recall_train2.append(recall_score(train_dropid['class'],new_data_d['class'],pos_label='B'))\n",
    "    \n",
    "    ##f1 score\n",
    "    f_train2=[]\n",
    "    f_train2.append(f1_score(train_dropid['class'],new_data_d['class'],pos_label='B'))\n",
    "    \n",
    "    ##auc score\n",
    "    auc_train2=[]\n",
    "    pred_data_d = label_binarize(new_data_d[\"class\"], classes=['B','M'], neg_label=0, pos_label=1)\n",
    "    true_data_d = label_binarize(train_dropid[\"class\"], classes=['B','M'], neg_label=0, pos_label=1)\n",
    "    auc_train2.append(roc_auc_score(true_data_d,pred_data_d))\n",
    "    \n",
    "    \n",
    "    \n"
   ]
  },
  {
   "cell_type": "code",
   "execution_count": 36,
   "metadata": {},
   "outputs": [
    {
     "name": "stdout",
     "output_type": "stream",
     "text": [
      "average accuracy score in training is 0.6271929824561403\n",
      "Average precision score in training is  0.6277533039647577\n",
      "average recall score in training is 0.9965034965034965\n",
      "average f score in training is 0.7702702702702702\n",
      "average roc_auc_score in training is 0.5011929247223365\n"
     ]
    }
   ],
   "source": [
    "print(\"average accuracy score in training is \" + str(np.mean(accuracy_train2)))\n",
    "print(\"Average precision score in training is  \" + str(np.mean(precision_train2)))\n",
    "print(\"average recall score in training is \" + str(np.mean(recall_train2)))\n",
    "print(\"average f score in training is \" + str(np.mean(f_train2)))\n",
    "print(\"average roc_auc_score in training is \" + str(np.mean(auc_train2)))"
   ]
  },
  {
   "cell_type": "code",
   "execution_count": 37,
   "metadata": {},
   "outputs": [
    {
     "data": {
      "image/png": "[encoded data removed]",
      "text/plain": [
       "<Figure size 432x288 with 1 Axes>"
      ]
     },
     "metadata": {
      "needs_background": "light"
     },
     "output_type": "display_data"
    }
   ],
   "source": [
    "##roc auc curve for training dataset in spectral clustering\n",
    "lw=2\n",
    "fpr, tpr, thresholds = roc_curve(true_data_d,pred_data_d)\n",
    "roc_auc = auc(fpr, tpr)\n",
    "plt.figure()\n",
    "plt.plot(fpr, tpr, color='red', lw=2, label='ROC curve (area = %0.2f)' % roc_auc)\n",
    "plt.plot([0, 1], [0, 1], color='blue', lw=lw, linestyle='--')\n",
    "plt.xlim([0.0, 1.0])\n",
    "plt.ylim([0.0, 1.0])\n",
    "plt.xlabel('False Positive Rate')\n",
    "plt.ylabel('True Positive Rate')\n",
    "plt.title('ROC plot for training dataset')\n",
    "plt.legend(loc=\"lower right\")\n",
    "plt.show()"
   ]
  },
  {
   "cell_type": "code",
   "execution_count": 41,
   "metadata": {},
   "outputs": [
    {
     "data": {
      "text/plain": [
       "array([[285,   1],\n",
       "       [169,   1]], dtype=int64)"
      ]
     },
     "execution_count": 41,
     "metadata": {},
     "output_type": "execute_result"
    }
   ],
   "source": [
    "##confusion matrix for training dataset in spectral clustering\n",
    "from sklearn.metrics import confusion_matrix\n",
    "confusion_matrix(train_dropid[\"class\"], new_data_d[\"class\"])"
   ]
  },
  {
   "cell_type": "code",
   "execution_count": 63,
   "metadata": {},
   "outputs": [],
   "source": [
    "##repeat 1b(iii)C using SpectralClustering\n",
    "for i in range(1,31):\n",
    "    test=pd.DataFrame()\n",
    "    test_b = data.loc[data['class'] == 'B'].sample(frac=0.20,random_state=123)\n",
    "    test_m = data.loc[data['class'] == 'M'].sample(frac=0.20,random_state=123)\n",
    "    test = pd.concat([test, test_b, test_m], names=feature)\n",
    "    train = data.loc[~data.index.isin(test.index), :]\n",
    "    test.reset_index(drop=True,inplace=True)\n",
    "    train.reset_index(drop=True,inplace=True)\n",
    "    \n",
    "    test_dropid= test.drop(['id'], axis=1)\n",
    "    train_dropid = train.drop(['id'], axis=1)\n",
    "    test = test.drop(['class','id'], axis=1)\n",
    "    train = train.drop(['class','id'], axis=1)\n",
    "    spectral_dd = SpectralClustering(n_clusters=2,affinity='rbf',assign_labels=\"discretize\",random_state=123).fit(test)\n",
    "    label_dd = spectral_dd.labels_\n",
    "    data0_dd = test[label_dd==0]\n",
    "    data1_dd = test[label_dd==1]\n",
    "    c_group0_dd = []\n",
    "    c_group1_dd = []\n",
    "    np_data0_dd = np.array(data0_dd)\n",
    "    np_data1_dd = np.array(data1_dd)\n",
    "    group_combined_dd = [[39.846290909090904, 0.02544898181818181, 0.01218469090909091, 0.030641181818181817, 0.0035111454545454553, 31309118.70909091, 662.3654545454544, 0.10243527272727271, 0.049537309090909094, 0.08520474545454544, 0.06229236363636366, 92.48945454545456, 14.203799999999998, 0.09570945454545456, 0.18068727272727267, 19.160727272727275, 2.8740345454545455, 0.40481272727272716, 0.007255618181818182, 0.021281090909090913, 1.1774527272727273, 884.7745454545453, 0.2513689090909091, 0.11718127272727273, 0.2570078181818182, 0.08197345454545454, 107.79145454545457, 16.350581818181816, 0.13149018181818176, 0.29659454545454544], [45.86898275862069, 0.026979224137931034, 0.01172339655172414, 0.03714381034482759, 0.004395896551724138, 9863706.431034483, 627.7431034482759, 0.10962189655172414, 0.048336500000000004, 0.09317182758620689, 0.06493362068965518, 89.60620689655174, 13.742810344827586, 0.10030999999999998, 0.18664999999999998, 19.270862068965517, 3.1129258620689653, 0.4395982758620689, 0.007295103448275862, 0.02169825862068966, 1.3384879310344826, 822.6844827586207, 0.24723965517241384, 0.10800775862068965, 0.25928344827586214, 0.08564310344827585, 103.25206896551725, 15.617379310344825, 0.13318793103448276, 0.28436551724137926]]\n",
    "    \n",
    "   \n",
    "    group0_dd= []\n",
    "    group1_dd= []\n",
    "    if len(data0_dd)>0 and len(data1_dd)>0:\n",
    "        min_to_center_0_ddd = pairwise_distances_argmin(group_combined_dd,np_data0_dd)[0]\n",
    "        min_to_center_1_dd = pairwise_distances_argmin(group_combined_dd,np_data1_dd)[0]\n",
    "    \n",
    "    cluster_0_dropid_dd = test_dropid.ix[[min_to_center_0_ddd]]\n",
    "    cluster_1_dropid_dd = test_dropid.ix[[min_to_center_1_dd]]\n",
    "    \n",
    "    data0_dd['class'] = [cluster_0_dropid_dd[\"class\"].value_counts().keys()[0]]*len(data0_dd)\n",
    "    data1_dd['class'] = [cluster_1_dropid_dd[\"class\"].value_counts().keys()[0]]*len(data1_dd)\n",
    "    new_data_dd =  pd.concat([data0_dd,data1_dd])\n",
    "    ##accuracy score\n",
    "    accuracy_test3=[]\n",
    "    accuracy_test3.append(accuracy_score(test_dropid['class'],new_data_dd['class']))\n",
    "    \n",
    "    ##precision score\n",
    "    precision_test3=[]\n",
    "    precision_test3.append(precision_score(test_dropid['class'],new_data_dd['class'],pos_label='B'))\n",
    "    \n",
    "    ##accuracy score\n",
    "    recall_test3=[]\n",
    "    recall_test3.append(recall_score(test_dropid['class'],new_data_dd['class'],pos_label='B'))\n",
    "    \n",
    "    ##f1 score\n",
    "    f_test3=[]\n",
    "    f_test3.append(f1_score(test_dropid['class'],new_data_dd['class'],pos_label='B'))\n",
    "    \n",
    "    ##auc score\n",
    "    auc_test3=[]\n",
    "    pred_data_test3 = label_binarize(new_data_dd[\"class\"], classes=['B','M'], neg_label=0, pos_label=1)\n",
    "    true_data_test3 = label_binarize(test_dropid[\"class\"], classes=['B','M'], neg_label=0, pos_label=1)\n",
    "    auc_test3.append(roc_auc_score(true_data_test3,pred_data_test3))\n",
    "    \n"
   ]
  },
  {
   "cell_type": "code",
   "execution_count": 64,
   "metadata": {},
   "outputs": [
    {
     "name": "stdout",
     "output_type": "stream",
     "text": [
      "average accuracy score in testing is 0.6283185840707964\n",
      "Average precision score in testing is  0.6283185840707964\n",
      "average recall score in testing is 1.0\n",
      "average f score in testing is 0.7717391304347826\n",
      "average roc_auc_score in testing is 0.5\n"
     ]
    }
   ],
   "source": [
    "print(\"average accuracy score in testing is \" + str(np.mean(accuracy_test3)))\n",
    "print(\"Average precision score in testing is  \" + str(np.mean(precision_test3)))\n",
    "print(\"average recall score in testing is \" + str(np.mean(recall_test3)))\n",
    "print(\"average f score in testing is \" + str(np.mean(f_test3)))\n",
    "print(\"average roc_auc_score in testing is \" + str(np.mean(auc_test3)))"
   ]
  },
  {
   "cell_type": "code",
   "execution_count": 65,
   "metadata": {},
   "outputs": [
    {
     "data": {
      "image/png": "[encoded data removed]",
      "text/plain": [
       "<Figure size 432x288 with 1 Axes>"
      ]
     },
     "metadata": {
      "needs_background": "light"
     },
     "output_type": "display_data"
    }
   ],
   "source": [
    "lw=2\n",
    "fpr, tpr, thresholds = roc_curve(true_data_test3,pred_data_test3)\n",
    "roc_auc = auc(fpr, tpr)\n",
    "plt.figure()\n",
    "plt.plot(fpr, tpr, color='red', lw=2, label='ROC curve (area = %0.2f)' % roc_auc)\n",
    "plt.plot([0, 1], [0, 1], color='blue', lw=lw, linestyle='--')\n",
    "plt.xlim([0.0, 1.0])\n",
    "plt.ylim([0.0, 1.0])\n",
    "plt.xlabel('False Positive Rate')\n",
    "plt.ylabel('True Positive Rate')\n",
    "plt.title('ROC plot for testing dataset')\n",
    "plt.legend(loc=\"lower right\")\n",
    "plt.show()    "
   ]
  },
  {
   "cell_type": "code",
   "execution_count": 66,
   "metadata": {},
   "outputs": [
    {
     "data": {
      "text/plain": [
       "array([[71,  0],\n",
       "       [42,  0]], dtype=int64)"
      ]
     },
     "execution_count": 66,
     "metadata": {},
     "output_type": "execute_result"
    }
   ],
   "source": [
    "##confusion matrix for testing dataset in spectral clustering\n",
    "confusion_matrix(test_dropid[\"class\"], new_data_dd[\"class\"])"
   ]
  },
  {
   "cell_type": "code",
   "execution_count": 67,
   "metadata": {},
   "outputs": [],
   "source": [
    "##1(v)\n",
    "##By comparing above result,\n",
    "##we learn that semi-supervised method has best average accuracy, precision, recall, F1-score, and AUC over M runs, and ROC and the confusion matrix\n",
    "##since scores for them in semi-supervised are highest.\n",
    "##Thus, semi-supervised method work best among supervised, semi-supervised,unsupervised,spectral."
   ]
  },
  {
   "cell_type": "code",
   "execution_count": 3,
   "metadata": {},
   "outputs": [],
   "source": [
    "##2(a)\n",
    "Data = pd.read_csv(\"https://archive.ics.uci.edu/ml/machine-learning-databases/00267/data_banknote_authentication.txt\",names=[\"variance\", \"skewness\", \"curtosis\", \"entropy\", \"class\"])\n",
    "Test = Data.sample(frac=472/1372,random_state=123)\n",
    "Train = Data.loc[~Data.index.isin(Test.index), :]"
   ]
  },
  {
   "cell_type": "code",
   "execution_count": 4,
   "metadata": {},
   "outputs": [
    {
     "name": "stdout",
     "output_type": "stream",
     "text": [
      "1\n",
      "2\n",
      "3\n",
      "4\n",
      "5\n",
      "6\n",
      "7\n",
      "8\n",
      "9\n",
      "10\n",
      "11\n",
      "12\n",
      "13\n",
      "14\n",
      "15\n",
      "16\n",
      "17\n",
      "18\n",
      "19\n",
      "20\n",
      "21\n",
      "22\n",
      "23\n",
      "24\n",
      "25\n",
      "26\n",
      "27\n",
      "28\n",
      "29\n",
      "30\n",
      "31\n",
      "32\n",
      "33\n",
      "34\n",
      "35\n",
      "36\n",
      "37\n",
      "38\n",
      "39\n",
      "40\n",
      "41\n",
      "42\n",
      "43\n",
      "44\n",
      "45\n",
      "46\n",
      "47\n",
      "48\n",
      "49\n",
      "50\n"
     ]
    }
   ],
   "source": [
    "##2(b)i\n",
    "from sklearn.model_selection import KFold\n",
    "from sklearn.svm import LinearSVC\n",
    "X_train = Train.drop([\"class\"],axis=1)\n",
    "X_test = Test.drop([\"class\"],axis=1)\n",
    "Y_train = Train[['class']]\n",
    "Y_test = Test[['class']]\n",
    "error_svm = {}\n",
    "for i in range(1,51):\n",
    "    print(i)\n",
    "    error_list = []\n",
    "    crange = np.logspace(-3,6,10)\n",
    "    c_dict = {'C':crange}\n",
    "    new_dataset = pd.DataFrame()\n",
    "    for j in range(1,91):\n",
    "        ten_data = Train.sample(n=10,replace=False)\n",
    "        new_dataset = pd.concat([new_dataset,ten_data])\n",
    "        x_ten_train = new_dataset.drop([\"class\"],axis=1)\n",
    "        x_ten_test = new_dataset[['class']]\n",
    "        CV = KFold(n_splits=5)\n",
    "        Svm = LinearSVC(penalty='l1',dual=False)\n",
    "        grid = GridSearchCV(Svm, param_grid=c_dict, cv=CV)\n",
    "        grid.fit(x_ten_train,x_ten_test)\n",
    "        error_test = 1-grid.score(X_test,Y_test)\n",
    "        error_list.append(error_test)\n",
    "    error_svm[i]=np.mean(error_list) \n",
    "        \n",
    "        "
   ]
  },
  {
   "cell_type": "code",
   "execution_count": null,
   "metadata": {},
   "outputs": [],
   "source": []
  },
  {
   "cell_type": "code",
   "execution_count": 6,
   "metadata": {},
   "outputs": [
    {
     "name": "stdout",
     "output_type": "stream",
     "text": [
      "1\n",
      "2\n",
      "3\n",
      "4\n",
      "5\n",
      "6\n",
      "7\n",
      "8\n",
      "9\n",
      "10\n",
      "11\n",
      "12\n",
      "13\n",
      "14\n",
      "15\n",
      "16\n",
      "17\n",
      "18\n",
      "19\n",
      "20\n",
      "21\n",
      "22\n",
      "23\n",
      "24\n",
      "25\n",
      "26\n",
      "27\n",
      "28\n",
      "29\n",
      "30\n",
      "31\n",
      "32\n",
      "33\n",
      "34\n",
      "35\n",
      "36\n",
      "37\n",
      "38\n",
      "39\n",
      "40\n",
      "41\n",
      "42\n",
      "43\n",
      "44\n",
      "45\n",
      "46\n",
      "47\n",
      "48\n",
      "49\n",
      "50\n"
     ]
    }
   ],
   "source": [
    "##2(b)ii\n",
    "error_svm2 = {}\n",
    "for i in range(1,51):\n",
    "    print(i)\n",
    "    error_list2 = []\n",
    "    crange2 = np.logspace(-3,6,10)\n",
    "    c_dict2 = {'C':crange2}\n",
    "    new_dataset2 = pd.DataFrame()\n",
    "    ten_train_class0 = Train.loc[Train['class'] == 0].sample(n=5)\n",
    "    ten_train_class1 = Train.loc[Train['class'] == 1].sample(n=5)\n",
    "    for j in range(1,91):\n",
    "        new_dataset2 = pd.concat([new_dataset2,ten_train_class0,ten_train_class1])\n",
    "        x_ten_train2 = new_dataset2.drop([\"class\"],axis=1)\n",
    "        x_ten_test2 = new_dataset2[['class']]\n",
    "        CV = KFold(n_splits=5)\n",
    "        Svm = LinearSVC(penalty='l1',dual=False)\n",
    "        grid = GridSearchCV(Svm, param_grid=c_dict2, cv=CV)\n",
    "        grid.fit(x_ten_train2,x_ten_test2)\n",
    "        error_test2 = 1-grid.score(X_test,Y_test)\n",
    "        error_list2.append(error_test2)\n",
    "        ten_train_class0 = Train.iloc[abs(grid.decision_function(Train.drop([\"class\"], axis=1))).argsort()[:10],:]\n",
    "        ten_train_class1 = pd.DataFrame()\n",
    "    error_svm2[i]=np.mean(error_list2)\n",
    "    "
   ]
  },
  {
   "cell_type": "code",
   "execution_count": null,
   "metadata": {},
   "outputs": [],
   "source": []
  },
  {
   "cell_type": "code",
   "execution_count": 54,
   "metadata": {},
   "outputs": [],
   "source": [
    "##2(c)\n",
    "res_passive = [] \n",
    "for key in error_svm.keys() : \n",
    "    res_passive.append(error_svm[key]) \n",
    "result_passive = []\n",
    "for i in error_list : \n",
    "    result_passive.append(np.mean(i))"
   ]
  },
  {
   "cell_type": "code",
   "execution_count": 55,
   "metadata": {},
   "outputs": [],
   "source": [
    "res_active = [] \n",
    "for key in error_svm2.keys() : \n",
    "    res_active.append(error_svm2[key]) \n",
    "result_active = []\n",
    "for i in error_list2 : \n",
    "    result_active.append(np.mean(i))"
   ]
  },
  {
   "cell_type": "code",
   "execution_count": 62,
   "metadata": {},
   "outputs": [
    {
     "data": {
      "image/png": "[encoded data removed]",
      "text/plain": [
       "<Figure size 432x288 with 1 Axes>"
      ]
     },
     "metadata": {
      "needs_background": "light"
     },
     "output_type": "display_data"
    }
   ],
   "source": [
    "training_instance = [i*10 for i in range(90)]\n",
    "plt.xlabel('Number of training instance')\n",
    "plt.ylabel('Test Error')\n",
    "plt.plot(training_instance, result_passive, 'red', label=\"passive\")\n",
    "plt.plot(training_instance, result_active, 'blue', label=\"active\")\n",
    "plt.title('average test error versus number of training instances for both active and passive learners')\n",
    "plt.legend()\n",
    "plt.show()\n",
    "##the differences in test error between passive learning and active learning are minor. They are both very small, with small\n",
    "##extent of fluctations. Moreover, with number of increasing training instances, test error gradually dramatically first,\n",
    "##then decrease very slowly,approaching to zero."
   ]
  },
  {
   "cell_type": "code",
   "execution_count": null,
   "metadata": {},
   "outputs": [],
   "source": []
  }
 ],
 "metadata": {
  "kernelspec": {
   "display_name": "Python 3",
   "language": "python",
   "name": "python3"
  },
  "language_info": {
   "codemirror_mode": {
    "name": "ipython",
    "version": 3
   },
   "file_extension": ".py",
   "mimetype": "text/x-python",
   "name": "python",
   "nbconvert_exporter": "python",
   "pygments_lexer": "ipython3",
   "version": "3.7.3"
  }
 },
 "nbformat": 4,
 "nbformat_minor": 2
}
